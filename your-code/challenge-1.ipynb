{
  "cells": [
    {
      "cell_type": "markdown",
      "metadata": {
        "id": "6ljiQn7UFv9d"
      },
      "source": [
        "# String Operations Lab\n",
        "\n",
        "**Before your start:**\n",
        "\n",
        "- Read the README.md file\n",
        "- Comment as much as you can and use the resources in the README.md file\n",
        "- Happy learning!"
      ]
    },
    {
      "cell_type": "code",
      "execution_count": 31,
      "metadata": {
        "id": "byo5TtEGFv9e"
      },
      "outputs": [],
      "source": [
        "import re"
      ]
    },
    {
      "cell_type": "markdown",
      "metadata": {
        "id": "Gnt8vLvvFv9f"
      },
      "source": [
        "# Challenge 1 - Combining Strings\n",
        "\n",
        "Combining strings is an important skill to acquire. There are multiple ways of combining strings in Python, as well as combining strings with variables. We will explore this in the first challenge. In the cell below, combine the strings in the list and add spaces between the strings (do not add a space after the last string). Insert a period after the last string."
      ]
    },
    {
      "cell_type": "code",
      "execution_count": 32,
      "metadata": {
        "id": "9GvTBGROFv9g",
        "outputId": "ef2e767a-d1c3-4c41-cbed-7a15e314a5e6",
        "colab": {
          "base_uri": "https://localhost:8080/"
        }
      },
      "outputs": [
        {
          "output_type": "stream",
          "name": "stdout",
          "text": [
            "Durante un tiempo no estuvo segura de si su marido era su marido\n"
          ]
        }
      ],
      "source": [
        "str_list = ['Durante', 'un', 'tiempo', 'no', 'estuvo', 'segura', 'de', 'si', 'su', 'marido', 'era', 'su', 'marido']\n",
        "# Your code here:\n",
        "espacio = \" \" \n",
        "oracion = espacio.join(str_list) \n",
        "print(oracion)\n"
      ]
    },
    {
      "cell_type": "markdown",
      "metadata": {
        "id": "bI8UONoMFv9g"
      },
      "source": [
        "In the cell below, use the list of strings to create a grocery list. Start the list with the string `Grocery list: ` and include a comma and a space between each item except for the last one. Include a period at the end. Only include foods in the list that start with the letter 'b' and ensure all foods are lower case."
      ]
    },
    {
      "cell_type": "code",
      "execution_count": 33,
      "metadata": {
        "id": "LLK97D92Fv9g",
        "outputId": "797c02d8-43ca-4137-af42-1e5c6e2c59e5",
        "colab": {
          "base_uri": "https://localhost:8080/",
          "height": 37
        }
      },
      "outputs": [
        {
          "output_type": "execute_result",
          "data": {
            "text/plain": [
              "'Grocery list: bananas, bread, brownie mix, broccoli.'"
            ],
            "application/vnd.google.colaboratory.intrinsic+json": {
              "type": "string"
            }
          },
          "metadata": {},
          "execution_count": 33
        }
      ],
      "source": [
        "\n",
        "food_list = ['Bananas', 'Chocolate', 'bread', 'diapers', 'Ice Cream', 'Brownie Mix', 'broccoli']\n",
        "# Your code here:  \n",
        "\n",
        "grocery_list = [i.lower() for i in food_list if i.lower().startswith(\"b\")]\n",
        "grocery_list= \"Grocery list: \"+\", \".join(grocery_list)+\".\"\n",
        "grocery_list\n",
        "\n",
        "\n",
        "\n",
        "\n",
        "\n",
        "\n",
        "\n"
      ]
    },
    {
      "cell_type": "markdown",
      "metadata": {
        "id": "dgfPYwaLFv9g"
      },
      "source": [
        "In the cell below, write a function that computes the area of a circle using its radius. Compute the area of the circle and insert the radius and the area between the two strings. Make sure to include spaces between the variable and the strings. \n",
        "\n",
        "Note: You can use the techniques we have learned so far or use f-strings. F-strings allow us to embed code inside strings. You can read more about f-strings [here](https://www.python.org/dev/peps/pep-0498/)."
      ]
    },
    {
      "cell_type": "code",
      "execution_count": 34,
      "metadata": {
        "id": "9LQqqFCNFv9h",
        "outputId": "db744b0e-9eef-4e62-cc2d-5a87176a442e",
        "colab": {
          "base_uri": "https://localhost:8080/",
          "height": 37
        }
      },
      "outputs": [
        {
          "output_type": "execute_result",
          "data": {
            "text/plain": [
              "'The area of the circle with radius: 4.5 is: 63.61725123519331 '"
            ],
            "application/vnd.google.colaboratory.intrinsic+json": {
              "type": "string"
            }
          },
          "metadata": {},
          "execution_count": 34
        }
      ],
      "source": [
        "import math\n",
        "\n",
        "string1 = \"The area of the circle with radius:\"\n",
        "string2  = \"is:\"\n",
        "radius = 4.5\n",
        "\n",
        "def area(x, pi = math.pi):\n",
        "    # This function takes a radius and returns the area of a circle. We also pass a default value for pi.\n",
        "    # Input: Float (and default value for pi)\n",
        "    # Output: Float\n",
        "    \n",
        "    # Sample input: 5.0\n",
        "    # Sample Output: 78.53981633\n",
        "    \n",
        "    # Your code here: \n",
        "    return pi * (x**2) \n",
        "\n",
        "f'{string1} {radius} {string2} {area(radius)} '    \n",
        "    \n",
        "# Your output string here:"
      ]
    },
    {
      "cell_type": "markdown",
      "metadata": {
        "id": "BhEb9wgaFv9h"
      },
      "source": [
        "# Challenge 2 - Splitting Strings\n",
        "\n",
        "We have first looked at combining strings into one long string. There are times where we need to do the opposite and split the string into smaller components for further analysis. \n",
        "\n",
        "In the cell below, split the string into a list of strings using the space delimiter. Count the frequency of each word in the string in a dictionary. Strip the periods, line breaks and commas from the text. Make sure to remove empty strings from your dictionary."
      ]
    },
    {
      "cell_type": "code",
      "execution_count": 35,
      "metadata": {
        "id": "Vw_5C6IhFv9h",
        "outputId": "384cb5ee-bb87-4adc-edfd-03ed3b69a52f",
        "colab": {
          "base_uri": "https://localhost:8080/"
        }
      },
      "outputs": [
        {
          "output_type": "execute_result",
          "data": {
            "text/plain": [
              "{'Some': 2,\n",
              " 'say': 3,\n",
              " 'the': 1,\n",
              " 'world': 1,\n",
              " 'will': 1,\n",
              " 'end': 1,\n",
              " 'in': 2,\n",
              " 'fire,': 1,\n",
              " 'ice.': 1,\n",
              " 'From': 1,\n",
              " 'what': 1,\n",
              " 'I’ve': 1,\n",
              " 'tasted': 1,\n",
              " 'of': 2,\n",
              " 'desire': 1,\n",
              " 'I': 3,\n",
              " 'hold': 1,\n",
              " 'with': 1,\n",
              " 'those': 1,\n",
              " 'who': 1,\n",
              " 'favor': 1,\n",
              " 'fire.': 1,\n",
              " 'But': 1,\n",
              " 'if': 1,\n",
              " 'it': 1,\n",
              " 'had': 1,\n",
              " 'to': 1,\n",
              " 'perish': 1,\n",
              " 'twice,': 1,\n",
              " 'think': 1,\n",
              " 'know': 1,\n",
              " 'enough': 1,\n",
              " 'hate': 1,\n",
              " 'To': 1,\n",
              " 'that': 1,\n",
              " 'for': 1,\n",
              " 'destruction': 1,\n",
              " 'ice': 1,\n",
              " 'Is': 1,\n",
              " 'also': 1,\n",
              " 'great': 1,\n",
              " 'And': 1,\n",
              " 'would': 1,\n",
              " 'suffice': 1}"
            ]
          },
          "metadata": {},
          "execution_count": 35
        }
      ],
      "source": [
        "poem = \"\"\"Some say the world will end in fire,\n",
        "Some say in ice.\n",
        "From what I’ve tasted of desire\n",
        "I hold with those who favor fire.\n",
        "But if it had to perish twice,\n",
        "I think I know enough of hate\n",
        "To say that for destruction ice\n",
        "Is also great\n",
        "And would suffice.\"\"\"\n",
        "\n",
        "# Your code here:\n",
        "poem_list = poem.strip(\",\").strip(\".\").split()\n",
        "poem_dict = {i:poem_list.count(i) for i in poem_list} \n",
        "poem_dict\n"
      ]
    },
    {
      "cell_type": "markdown",
      "metadata": {
        "id": "RrZl_H8bFv9i"
      },
      "source": [
        "In the cell below, find all the words that appear in the text and do not appear in the blacklist. You must parse the string but can choose any data structure you wish for the words that do not appear in the blacklist. Remove all non letter characters and convert all words to lower case."
      ]
    },
    {
      "cell_type": "code",
      "execution_count": 36,
      "metadata": {
        "id": "dc1QBgoAFv9i",
        "outputId": "e3c9855e-1080-4075-c8f0-cbae814feaaa",
        "colab": {
          "base_uri": "https://localhost:8080/"
        }
      },
      "outputs": [
        {
          "output_type": "execute_result",
          "data": {
            "text/plain": [
              "{'angry',\n",
              " 'apple',\n",
              " 'beheld',\n",
              " 'beneath',\n",
              " 'bore',\n",
              " 'both',\n",
              " 'bright',\n",
              " 'day',\n",
              " 'deceitful',\n",
              " 'did',\n",
              " 'end',\n",
              " 'fears',\n",
              " 'foe',\n",
              " 'friend',\n",
              " 'garden',\n",
              " 'glad',\n",
              " 'grew',\n",
              " 'grow',\n",
              " 'had',\n",
              " 'he',\n",
              " 'i',\n",
              " 'into',\n",
              " 'knew',\n",
              " 'mine',\n",
              " 'morning',\n",
              " 'my',\n",
              " 'night',\n",
              " 'not',\n",
              " 'outstretched',\n",
              " 'pole',\n",
              " 'see',\n",
              " 'shine',\n",
              " 'smiles',\n",
              " 'soft',\n",
              " 'stole',\n",
              " 'sunned',\n",
              " 'tears',\n",
              " 'that',\n",
              " 'till',\n",
              " 'told',\n",
              " 'tree',\n",
              " 'veild',\n",
              " 'was',\n",
              " 'waterd',\n",
              " 'when',\n",
              " 'wiles',\n",
              " 'with',\n",
              " 'wrath'}"
            ]
          },
          "metadata": {},
          "execution_count": 36
        }
      ],
      "source": [
        "blacklist = ['and', 'as', 'an', 'a', 'the', 'in', 'it']\n",
        "\n",
        "poem = \"\"\"I was angry with my friend; \n",
        "I told my wrath, my wrath did end.\n",
        "I was angry with my foe: \n",
        "I told it not, my wrath did grow. \n",
        "\n",
        "And I waterd it in fears,\n",
        "Night & morning with my tears: \n",
        "And I sunned it with smiles,\n",
        "And with soft deceitful wiles. \n",
        "\n",
        "And it grew both day and night. \n",
        "Till it bore an apple bright. \n",
        "And my foe beheld it shine,\n",
        "And he knew that it was mine. \n",
        "\n",
        "And into my garden stole, \n",
        "When the night had veild the pole; \n",
        "In the morning glad I see; \n",
        "My foe outstretched beneath the tree.\"\"\"\n",
        "\n",
        "# Your code here: \n",
        "words = set(poem.lower().replace(\",\",\"\").replace(\".\",\"\").replace(\":\",\"\").replace(\";\", \"\").replace(\"&\",\"\").split())\n",
        "blacklist_set = set(blacklist)\n",
        "\n",
        "rem_words = words - blacklist_set\n",
        "rem_words\n"
      ]
    },
    {
      "cell_type": "markdown",
      "metadata": {
        "id": "9bfaxOHYFv9j"
      },
      "source": [
        "# Challenge 3 - Regular Expressions\n",
        "\n",
        "Sometimes, we would like to perform more complex manipulations of our string. This is where regular expressions come in handy. In the cell below, return all characters that are upper case from the string specified below."
      ]
    },
    {
      "cell_type": "code",
      "execution_count": 37,
      "metadata": {
        "id": "aRbXKxOLFv9j",
        "outputId": "f8addeb0-fd9f-4bac-c9c4-ef2149c17158",
        "colab": {
          "base_uri": "https://localhost:8080/"
        }
      },
      "outputs": [
        {
          "output_type": "stream",
          "name": "stdout",
          "text": [
            "['T', 'P']\n"
          ]
        }
      ],
      "source": [
        "poem = \"\"\"The apparition of these faces in the crowd;\n",
        "Petals on a wet, black bough.\"\"\"\n",
        "\n",
        "# Your code here: \n",
        "print(re.findall('[A-Z]', poem))\n"
      ]
    },
    {
      "cell_type": "markdown",
      "metadata": {
        "id": "oE0JIYKeFv9j"
      },
      "source": [
        "In the cell below, filter the list provided and return all elements of the list containing a number. To filter the list, use the `re.search` function. Check if the function does not return `None`. You can read more about the `re.search` function [here](https://docs.python.org/3/library/re.html)."
      ]
    },
    {
      "cell_type": "code",
      "execution_count": 38,
      "metadata": {
        "id": "YeOGpf7PFv9j",
        "outputId": "a47b002d-3eb9-42ab-cfa5-41f9faaa15a7",
        "colab": {
          "base_uri": "https://localhost:8080/"
        }
      },
      "outputs": [
        {
          "output_type": "execute_result",
          "data": {
            "text/plain": [
              "['123abc', 'abc123', 'JohnSmith1', 'ABBY4']"
            ]
          },
          "metadata": {},
          "execution_count": 38
        }
      ],
      "source": [
        "data = ['123abc', 'abc123', 'JohnSmith1', 'ABBY4', 'JANE']\n",
        "\n",
        "# Your code here: \n",
        "\n",
        "[item for item in data if re.search('\\d', item)]"
      ]
    },
    {
      "cell_type": "markdown",
      "metadata": {
        "id": "m-ooGmG7Fv9j"
      },
      "source": [
        "# Bonus Challenge - Regular Expressions II\n",
        "\n",
        "In the cell below, filter the list provided to keep only strings containing at least one digit and at least one lower case letter. As in the previous question, use the `re.search` function and check that the result is not `None`.\n",
        "\n",
        "To read more about regular expressions, check out [this link](https://developers.google.com/edu/python/regular-expressions)."
      ]
    },
    {
      "cell_type": "code",
      "execution_count": 39,
      "metadata": {
        "id": "QqcPms2KFv9j"
      },
      "outputs": [],
      "source": [
        "data = ['123abc', 'abc123', 'JohnSmith1', 'ABBY4', 'JANE']\n",
        "# Your code here:\n"
      ]
    }
  ],
  "metadata": {
    "kernelspec": {
      "display_name": "Python 3",
      "language": "python",
      "name": "python3"
    },
    "language_info": {
      "codemirror_mode": {
        "name": "ipython",
        "version": 3
      },
      "file_extension": ".py",
      "mimetype": "text/x-python",
      "name": "python",
      "nbconvert_exporter": "python",
      "pygments_lexer": "ipython3",
      "version": "3.7.2"
    },
    "colab": {
      "provenance": []
    }
  },
  "nbformat": 4,
  "nbformat_minor": 0
}